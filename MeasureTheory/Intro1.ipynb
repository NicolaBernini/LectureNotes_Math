{
 "cells": [
  {
   "cell_type": "markdown",
   "metadata": {
    "collapsed": false
   },
   "source": [
    "# Preliminaries \n",
    "\n",
    "## Space \n",
    "\n",
    "Let's introduce the concept of $ X $ Space \n",
    "\n",
    "In the code formalism we can think about it as \n",
    "```cpp\n",
    "class Space()\n",
    "{\n",
    "    // Generic Space Class \n",
    "}\n",
    "```\n",
    "\n",
    "Some more detailed examples are \n",
    "```cpp\n",
    "class Real : Space \n",
    "{\n",
    "    //Definition of a specific Space class namely the Real \n",
    "}\n",
    "\n",
    "class Complex : Space \n",
    "{\n",
    "    //Definition of a specific Space class namely the Complex\n",
    "}\n",
    "```\n",
    "\n"
   ]
  },
  {
   "cell_type": "markdown",
   "metadata": {},
   "source": [
    "## Measure over Space \n",
    "Let's consider a $ W \\subset X $ and let's think about asking what is the *volume* of this subspace ? \n",
    "\n",
    "In the math formalism this problem implies definining such a function \n",
    "$$ \\mu : X \\rightarrow \\mathbb{R}^{+} $$\n",
    "\n",
    "so that $ \\mu(W) $ can be interpreted as the *measure of the volume* of $ W $ ... whatever it means in the specific context of the $ X $ Space \n",
    "\n",
    "In the code formalism it could be implemented as follows \n",
    "```c++\n",
    "class Space \n",
    "{\n",
    "    //Method that returns a Subspace of a given Space \n",
    "    SubSpace getSubSpace(criteria); \n",
    "}\n",
    "\n",
    "template <class T>\n",
    "class SubSpace \n",
    "{\n",
    "    // Subspace of a given State \n",
    "    SubSpace(T); \n",
    "    \n",
    "    //Returns a Real Value, representing the Measure of the \"Volume\" of this space     \n",
    "    Real getMeasure(); \n",
    "}\n",
    "   \n",
    "```\n"
   ]
  },
  {
   "cell_type": "markdown",
   "metadata": {},
   "source": [
    "## Decomposition of the Space \n",
    "\n",
    "Instead of building $ \\mu $ defining the value of each possible $ W \\subset X $ it is better to think *how to properly decompose* the $ X $ Space: the goal is to build a **Basis** to *describe every possible subset* \n",
    "\n",
    "A good basis is a **sigma algebra** which is a *collection of subsets* respecting certain properties wrt certain set operation functions \n",
    "\n",
    "Given a certain $ X $ Space there is not only one Sigma Algebra hence it is possible to introduce the concept of **Sigma Algebra Generator** that can be represented as follows \n",
    "```cpp \n",
    "class Space \n",
    "{\n",
    "    SigmaAlgebra SigmaAlgebraGenerator()\n",
    "    {\n",
    "        //This method returns a valid Sigma Algebra for this Space    \n",
    "    }\n",
    "\n",
    "}\n",
    "```\n",
    "\n",
    "This method returns a *Sigma Algebra Object* as follows \n",
    "```cpp \n",
    "class SigmaAlgebra \n",
    "{\n",
    "    \n",
    "    // Provides the representation of a generic SubSpace according to the Sigma Algebra Basis \n",
    "    // The result is a countable set of \n",
    "    std::vector<SA_Element> getRepresentation(SubSpace); \n",
    "}\n",
    "\n",
    "class SA_Element : SubSpace \n",
    "{\n",
    "    // Element of the Sigma Albegra \n",
    "}\n",
    "\n",
    "```\n",
    "\n",
    "\n"
   ]
  }
 ],
 "metadata": {
  "kernelspec": {
   "display_name": "Python 2",
   "language": "python",
   "name": "python2"
  },
  "language_info": {
   "codemirror_mode": {
    "name": "ipython",
    "version": 2
   },
   "file_extension": ".py",
   "mimetype": "text/x-python",
   "name": "python",
   "nbconvert_exporter": "python",
   "pygments_lexer": "ipython2",
   "version": "2.7.8"
  },
  "name": "MeasureTheory1.ipynb"
 },
 "nbformat": 4,
 "nbformat_minor": 0
}
